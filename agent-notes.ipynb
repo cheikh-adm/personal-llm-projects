{
 "cells": [
  {
   "cell_type": "code",
   "execution_count": 1,
   "id": "72740d78-692f-4011-8949-d40a07433367",
   "metadata": {},
   "outputs": [],
   "source": [
    "fruits = [\"pomme\", \"banane\", \"cerise\"]"
   ]
  },
  {
   "cell_type": "code",
   "execution_count": 13,
   "id": "c53ec63a-cee2-4c44-a578-1a10c930aa2e",
   "metadata": {},
   "outputs": [],
   "source": [
    "def saluer():\n",
    "    print(\"Bonjour le monde !\")"
   ]
  },
  {
   "cell_type": "code",
   "execution_count": 16,
   "id": "ba37381f-b52c-4ee2-80a1-57bba3755b42",
   "metadata": {},
   "outputs": [
    {
     "name": "stdout",
     "output_type": "stream",
     "text": [
      "Bonjour le monde !\n"
     ]
    }
   ],
   "source": [
    "saluer()"
   ]
  },
  {
   "cell_type": "code",
   "execution_count": 19,
   "id": "a75a125b-0898-453a-a7de-bbc4ba9c3363",
   "metadata": {},
   "outputs": [],
   "source": [
    "def init(self, titre, auteur, pages):\n",
    "    self.titre = titre\n",
    "    self.auteur = auteur\n",
    "    self.pages = pages"
   ]
  },
  {
   "cell_type": "code",
   "execution_count": null,
   "id": "ba0bd4e2-446b-4158-bb0a-504aeeb5f7e3",
   "metadata": {},
   "outputs": [],
   "source": []
  },
  {
   "cell_type": "raw",
   "id": "9393b510-7a9e-416b-bac5-db76dbad64e5",
   "metadata": {},
   "source": [
    "Exercice : Crée une classe Personne\n",
    "\n",
    "Objectif : Comprendre la création de classe, d’objet, et l’utilisation de méthodes simples.\n",
    "\n",
    "🔧 Consigne :\n",
    "\n",
    "Crée une classe appelée Personne.\n",
    "\n",
    "Dans le constructeur init, ajoute trois attributs : nom, age, ville.\n",
    "\n",
    "Ajoute une méthode afficher_info qui affiche : \"Nom: ..., Âge: ..., Ville: ...\"\n",
    "\n",
    "Crée deux objets différents de la classe Personne.\n",
    "\n",
    "Appelle la méthode afficher_info pour chaque objet"
   ]
  },
  {
   "cell_type": "code",
   "execution_count": 24,
   "id": "dc7d11d9-afdc-456c-a0d3-97a30a5658bb",
   "metadata": {},
   "outputs": [
    {
     "ename": "SyntaxError",
     "evalue": "expected ':' (707477822.py, line 1)",
     "output_type": "error",
     "traceback": [
      "  \u001b[36mCell\u001b[39m\u001b[36m \u001b[39m\u001b[32mIn[24]\u001b[39m\u001b[32m, line 1\u001b[39m\n\u001b[31m    \u001b[39m\u001b[31mclass personne\u001b[39m\n                  ^\n\u001b[31mSyntaxError\u001b[39m\u001b[31m:\u001b[39m expected ':'\n"
     ]
    }
   ],
   "source": [
    "class personne\n",
    "\n",
    "def init(self, nom, age, vile):\n",
    "    afficher_info(  ???__\n",
    "\n",
    "print"
   ]
  },
  {
   "cell_type": "code",
   "execution_count": null,
   "id": "81d5d3b7-61f5-454a-b5ce-ccb3b1c18bc5",
   "metadata": {},
   "outputs": [],
   "source": [
    "Exercice : Classe Voiture\n",
    "🔧 Consignes :\n",
    "\n",
    "Crée une classe appelée Voiture.\n",
    "\n",
    "Le constructeur (init) doit prendre 3 attributs : marque, modele, annee.\n",
    "\n",
    "Ajoute une méthode afficher_voiture() qui affiche toutes les infos.\n",
    "\n",
    "Ajoute une méthode demarrer() qui affiche : \"La voiture [marque] [modèle] démarre.\"\n",
    "\n",
    "Ajoute une méthode changer_annee(nouvelle_annee) qui met à jour l’attribut annee."
   ]
  },
  {
   "cell_type": "code",
   "execution_count": 25,
   "id": "fcaa7a96-712e-4455-b453-2de5322f6254",
   "metadata": {},
   "outputs": [
    {
     "name": "stdout",
     "output_type": "stream",
     "text": [
      "Nom: Ali, Âge: 22, Ville: Paris\n",
      "Nom: Sophie, Âge: 30, Ville: Lyon\n"
     ]
    }
   ],
   "source": [
    "class Personne:\n",
    "    def __init__(self, nom, age, ville):\n",
    "        self.nom = nom\n",
    "        self.age = age\n",
    "        self.ville = ville\n",
    "\n",
    "    def afficher_info(self):\n",
    "        print(f\"Nom: {self.nom}, Âge: {self.age}, Ville: {self.ville}\")\n",
    "\n",
    "# Création d'objets\n",
    "p1 = Personne(\"Ali\", 22, \"Paris\")\n",
    "p2 = Personne(\"Sophie\", 30, \"Lyon\")\n",
    "\n",
    "# Appel de la méthode\n",
    "p1.afficher_info()\n",
    "p2.afficher_info()\n"
   ]
  },
  {
   "cell_type": "code",
   "execution_count": null,
   "id": "3d2e0b4e-8498-45e5-9b59-f421ef6d0d97",
   "metadata": {},
   "outputs": [],
   "source": []
  },
  {
   "cell_type": "code",
   "execution_count": 65,
   "id": "11b69c1b-7413-493d-9e42-4aca3922dd5a",
   "metadata": {},
   "outputs": [
    {
     "name": "stdout",
     "output_type": "stream",
     "text": [
      "marque: Toyota, modele:Corolla, annee: 2020\n",
      "La voiture Toyota  Corolla,  démarre \n",
      "Année modifiée avec succès.\n",
      "marque: Toyota, modele:Corolla, annee: 2025\n"
     ]
    }
   ],
   "source": [
    "class Voiture:\n",
    "\n",
    "    \n",
    "    def __init__(self, marque, modele, annee):\n",
    "        self.marque= marque\n",
    "        self.modele= modele\n",
    "        self.annee= annee\n",
    "\n",
    "\n",
    "        \n",
    "    def afficher_voiture(self):\n",
    "        print(f\"marque: {self.marque}, modele:{self.modele}, annee: {self.annee}\")\n",
    "    \n",
    "\n",
    "\n",
    "    def demarrer(self):\n",
    "        print(f\"La voiture {self.marque}  {self.modele},  démarre \")\n",
    "\n",
    "    def changer_annee(self, nouvelle_annee):\n",
    "        self.annee = nouvelle_annee\n",
    "        print(\"Année modifiée avec succès.\")\n",
    "   \n",
    "\n",
    "v1 = Voiture(\"Toyota\", \"Corolla\", 2020)\n",
    "\n",
    "\n",
    "v1.afficher_voiture()\n",
    "v1.demarrer()\n",
    "v1.changer_annee(2025)\n",
    "v1.afficher_voiture()"
   ]
  },
  {
   "cell_type": "code",
   "execution_count": null,
   "id": "dcbd28ec-9e12-45f7-9d41-c034afc2ffa8",
   "metadata": {},
   "outputs": [],
   "source": []
  }
 ],
 "metadata": {
  "kernelspec": {
   "display_name": "Python 3 (ipykernel)",
   "language": "python",
   "name": "python3"
  },
  "language_info": {
   "codemirror_mode": {
    "name": "ipython",
    "version": 3
   },
   "file_extension": ".py",
   "mimetype": "text/x-python",
   "name": "python",
   "nbconvert_exporter": "python",
   "pygments_lexer": "ipython3",
   "version": "3.11.12"
  }
 },
 "nbformat": 4,
 "nbformat_minor": 5
}
